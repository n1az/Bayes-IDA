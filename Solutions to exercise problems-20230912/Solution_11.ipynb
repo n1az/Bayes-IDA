{
 "cells": [
  {
   "cell_type": "markdown",
   "id": "fe85bb26",
   "metadata": {},
   "source": [
    "#### Bayesian inference and Data assimilation SS2023\n",
    "\n",
    "# Exercise 11 sample sample solution\n",
    "\n",
    "#### Jin W. Kim (jin.won.kim@uni-potsdam.de)"
   ]
  },
  {
   "cell_type": "code",
   "execution_count": 3,
   "id": "b6b17b76",
   "metadata": {},
   "outputs": [],
   "source": [
    "%matplotlib inline\n",
    "import numpy as np\n",
    "import matplotlib.pyplot as plt"
   ]
  },
  {
   "cell_type": "markdown",
   "id": "c45f6ac6",
   "metadata": {},
   "source": [
    "## Problem 1\n",
    "\n",
    "#### 1.1 Prediction step\n",
    "The distribution of $X_1$ is given by\n",
    "\n",
    "$$\n",
    "X_1 = \\frac{1}{2}X_0 + 1 + \\Xi_0\n",
    "$$\n",
    "\n",
    "Since $X_0\\sim N(-1,2)$ and $\\Xi_0 \\sim N(0,1)$, $X_1$ is again Gaussian with the mean and the variance given by\n",
    "\n",
    "$$\n",
    "X_1 \\sim N\\big(-\\frac{1}{2} + 1, \\frac{2}{4} + 0 + 1\\big) = N\\big(\\frac{1}{2}, \\frac{3}{2}\\big)\n",
    "$$"
   ]
  },
  {
   "cell_type": "markdown",
   "id": "885cb9fe",
   "metadata": {},
   "source": [
    "#### 1.2 Filtering step (preliminary, not necessary for marking)\n",
    "We first derive the conditional distribution briefly. suppose $\\pi_{X} \\sim N(m,\\sigma_x)$ and $Y = hX + N(0,\\sigma_y)$, then\n",
    "\n",
    "$$\n",
    "\\begin{aligned}\n",
    "\\pi_{X|Y}(x|y) &\\propto \\pi_{Y|X}(y|x) \\pi_X(x) \\\\\n",
    "&\\propto \\exp\\Big(-\\frac{1}{2\\sigma_y}(y-hx)^2-\\frac{1}{2\\sigma_x}(x-m)^2\\Big) \\\\\n",
    "&\\propto\\exp\\Big(-\\frac{1}{2}\\big(\\frac{h^2}{\\sigma_y}x^2 - \\frac{2yh}{\\sigma_y}x + \\frac{y^2}{\\sigma_y}+\\frac{1}{\\sigma_x}x^2-\\frac{2m}{\\sigma_x}x + \\frac{m^2}{\\sigma_x}\\big)\\Big)\n",
    "\\end{aligned}\n",
    "$$\n",
    "\n",
    "Define\n",
    "\n",
    "$$\n",
    "\\sigma_{x|y}:=1/(h^2/\\sigma_y+1/\\sigma_x) = \\frac{\\sigma_x\\sigma_y}{h^2\\sigma_x+\\sigma_y}\n",
    "$$\n",
    "\n",
    "Then\n",
    "\n",
    "$$\n",
    "\\pi_{X|Y}(x|y) \\propto\\exp\\Big(-\\frac{1}{2\\sigma_{x|y}}\\big(x^2 - 2(\\frac{\\sigma_{x|y}}{\\sigma_y}yh+\\frac{\\sigma_{x|y}}{\\sigma_x}m)x \\big)\\Big)\n",
    "$$\n",
    "\n",
    "This is Gaussian with\n",
    "\n",
    "$$\n",
    "\\pi_{X|Y}(x|y) \\sim N\\Big(\\frac{h\\sigma_{x|y}}{\\sigma_y}y+\\frac{\\sigma_{x|y}}{\\sigma_x}m, \\sigma_{x|y}\\Big)\n",
    "$$\n",
    "\n",
    "It is often expressed using the Kalman gain\n",
    "\n",
    "$$\n",
    "K := \\frac{h\\sigma_{x|y}}{\\sigma_y} = \\frac{h\\sigma_x}{h^2\\sigma_x+\\sigma_y}\n",
    "$$\n",
    "\n",
    "Then the mean $Ky+\\frac{\\sigma_{x|y}}{\\sigma_x}m = m + K(y-hm)$, and therefore\n",
    "\n",
    "$$\n",
    "\\pi_{X|Y}(x|y) \\sim N\\big(m + K(y-hm), \\frac{1}{h}K\\sigma_y\\big)\n",
    "$$\n"
   ]
  },
  {
   "cell_type": "markdown",
   "id": "df4c30e6",
   "metadata": {},
   "source": [
    "#### 1.2 Filtering step\n",
    "The noise variance is 2 and $h=1$, and the mean is as given in step 1. Therefore, we have\n",
    "\n",
    "$$\n",
    "K = \\frac{\\sigma_x}{\\sigma_x+\\sigma_y} = \\frac{3/2}{3/2+2} = \\frac{3}{7}\n",
    "$$\n",
    "\n",
    "Therefore the conditional mean\n",
    "\n",
    "$$\n",
    "\\mathbb{E}\\big[X_1 | Y_1 = 2\\big] = \\frac{1}{2} + \\frac{3}{7}\\big(2-\\frac{1}{2}\\big) = \\frac{8}{7}\n",
    "$$\n",
    "\n",
    "and the conditional variance\n",
    "\n",
    "$$\n",
    "\\text{Var}\\big[X_1 | Y_1=2\\big] = 2\\cdot \\frac{3}{7} = \\frac{6}{7}\n",
    "$$"
   ]
  },
  {
   "cell_type": "markdown",
   "id": "9809aadd",
   "metadata": {},
   "source": [
    "#### 1.3 Smoothing\n",
    "For smoothing, we have to write the Bayes rule for $X_0$ given $Y_1$:\n",
    "\n",
    "$$\n",
    "\\pi_{X_0|Y_1}(x|y) \\propto \\pi_{Y_1|X_0}(y|x)\\pi_{X_0}(x)\n",
    "$$\n",
    "\n",
    "Now the problem is the likelihood $\\pi_{Y_1|X_0}(y|x)$ is not explicitly given. However, we can simply put the forward dynamics into the observation model, that is,\n",
    "\n",
    "$$\n",
    "Y_1 = X_1 + \\sqrt{2}\\Sigma_1 = \\big(\\frac{1}{2}X_0 + 1 + \\Xi_0\\big) + \\sqrt{2}\\Sigma_1\n",
    "$$\n",
    "\n",
    "Therefore we have\n",
    "\n",
    "$$\n",
    "Y_1 - 1 = \\frac{1}{2}X_0 + \\tilde{\\Sigma}\n",
    "$$\n",
    "\n",
    "where $\\tilde{\\Sigma} = \\Xi_0+ \\sqrt{2}\\Sigma_1 \\sim N(0,3)$.\n",
    "Now from the linear-Gaussian inference equation,\n",
    "\n",
    "$$\n",
    "\\sigma_{x|y} = \\frac{\\sigma_x\\sigma_y}{h^2\\sigma_x+\\sigma_y}\n",
    "$$\n",
    "\n",
    "$$\n",
    "\\pi_{X_0|Y_1}(x|y) \\sim N\\Big(\\frac{h\\sigma_{x|y}}{\\sigma_y}y+\\frac{\\sigma_{x|y}}{\\sigma_x}m, \\sigma_{x|y}\\Big)\n",
    "$$\n",
    "\n",
    "Substituting $m=-1$, $\\sigma_x = 2$, $y=1$, $h = 1/2$ and $\\sigma_y = 3$, we obtain the conditional variance\n",
    "\n",
    "$$\n",
    "\\text{Var}\\big[X_0 | Y_1=2\\big] = \\frac{2\\cdot3}{2/4+3} = \\frac{12}{7}\n",
    "$$\n",
    "\n",
    "and conditional mean\n",
    "\n",
    "$$\n",
    "\\mathbb{E}\\big[X_0 | Y_1 = 2\\big] = \\frac{2}{7}-\\frac{6}{7} = -\\frac{4}{7}\n",
    "$$"
   ]
  },
  {
   "cell_type": "markdown",
   "id": "2bd57a5b",
   "metadata": {},
   "source": [
    "#### 1.4\n",
    "The smoothing step is computed from\n",
    "\n",
    "$$\n",
    "Y_1 = \\alpha X_0 + \\beta\\Xi_0 + \\sqrt{2}\\Sigma_1\n",
    "$$\n",
    "\n",
    "and thus the cumulative noise variance is $\\beta+2$.\n",
    "\n",
    "Input: The dynamics parameter $\\alpha$ and $\\beta$, current mean $m$ and new observation $y$.\n",
    "\n",
    "* m_1 = $\\alpha\\cdot m$   $\\qquad\\qquad$-- compute predictive mean\n",
    "* v_1 = $\\alpha^2 + \\beta$ $\\qquad\\qquad$   -- compute predictive variance\n",
    "* K = v_1/(v_1+2) $\\qquad\\qquad$   -- compute Kalman gain\n",
    "* m_cond_1 = m_1 + K$\\cdot$(y-m_1) $\\qquad$ -- compute the conditional mean\n",
    "* v_cond_1 = 2K  $\\qquad\\qquad\\qquad$ -- compute the conditional variance\n",
    "* K_sm = $\\alpha$/($\\alpha^2+\\beta+2$) $\\qquad$   -- compute Kalman gain for the smoothing step\n",
    "* m_sm_0 = m + K_sm$\\cdot$(y - $\\alpha\\cdot$ m) $\\qquad$ -- compute the smoothed mean\n",
    "* v_sm_0 = ($\\beta$ + 2)$\\cdot$ K_sm/$\\alpha$  $\\qquad\\qquad$ -- compute the smoothed variance\n",
    "\n",
    "Output: m_1, v_1, m_cond_1, v_cond_1, m_sm_0, v_sm_0"
   ]
  },
  {
   "cell_type": "markdown",
   "id": "65569c14",
   "metadata": {},
   "source": [
    "## Problem 2"
   ]
  },
  {
   "cell_type": "code",
   "execution_count": 11,
   "id": "8d480865",
   "metadata": {},
   "outputs": [
    {
     "name": "stdout",
     "output_type": "stream",
     "text": [
      "Empirical mean is 1.1145. The theoretical value is 1.1429\n",
      "Empirical variance is 0.8229. The theoretical value is 0.8571\n",
      "The effecive sample size becomes 757.90\n"
     ]
    }
   ],
   "source": [
    "\"Particle simulation\"\n",
    "N = 1000\n",
    "m = -1.\n",
    "sigma_x0 = 2.\n",
    "sigma_y = 2.\n",
    "y = 2.\n",
    "\n",
    "#Sample from prior and process noise\n",
    "x0 = np.random.normal(loc = m ,scale=np.sqrt(sigma_x0),size=N)\n",
    "xi = np.random.normal(size=N)\n",
    "\n",
    "#Push forward\n",
    "x1 = 0.5 * x0 + 1.0 + xi\n",
    "\n",
    "#compute the likelihood weight\n",
    "w_un = np.exp(-1/(2*sigma_y) * (2-x1)**2)\n",
    "w = w_un / w_un.sum()\n",
    "\n",
    "#compute the weighted mean and variance\n",
    "m_cond = (w*x1).sum()\n",
    "v_cond = (w*(x1-m_cond)*(x1-m_cond)).sum()\n",
    "\n",
    "#compute the effective sample size\n",
    "ess = 1/(w*w).sum()\n",
    "\n",
    "#print results\n",
    "print(\"Empirical mean is {:6.4f}. The theoretical value is {:6.4f}\".format(m_cond,8/7))\n",
    "print(\"Empirical variance is {:6.4f}. The theoretical value is {:6.4f}\".format(v_cond,6/7))\n",
    "print(\"The effecive sample size becomes {:4.2f}\".format(ess))"
   ]
  },
  {
   "cell_type": "markdown",
   "id": "99b034cd",
   "metadata": {},
   "source": [
    "The result well agrees with the theoretical value. This implementation shall be a single time step in particle filtering."
   ]
  },
  {
   "cell_type": "code",
   "execution_count": null,
   "id": "74b74feb",
   "metadata": {},
   "outputs": [],
   "source": []
  }
 ],
 "metadata": {
  "kernelspec": {
   "display_name": "Python 3 (ipykernel)",
   "language": "python",
   "name": "python3"
  },
  "language_info": {
   "codemirror_mode": {
    "name": "ipython",
    "version": 3
   },
   "file_extension": ".py",
   "mimetype": "text/x-python",
   "name": "python",
   "nbconvert_exporter": "python",
   "pygments_lexer": "ipython3",
   "version": "3.10.9"
  }
 },
 "nbformat": 4,
 "nbformat_minor": 5
}

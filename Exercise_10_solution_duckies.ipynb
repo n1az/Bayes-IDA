{
 "cells": [
  {
   "cell_type": "markdown",
   "id": "0ba1bb23",
   "metadata": {},
   "source": [
    "## Exercise 10 – Bayesian inference and Data assimilation\n",
    "\n",
    "**Group : Duckies**"
   ]
  },
  {
   "cell_type": "markdown",
   "id": "1e5a198b",
   "metadata": {},
   "source": [
    "## Solution 1.1:\n",
    "\n",
    "To find the conditional density $\\pi_{X \\mid Y}(x \\mid Y=y)$, we can use Bayes' theorem, which states that:\n",
    "\n",
    "$$\n",
    "\\pi_{X \\mid Y}(x \\mid Y=y) = \\frac{\\pi_{Y \\mid X}(y \\mid x) \\pi_X(x)}{\\pi_Y(y)}\n",
    "$$\n",
    "\n",
    "where $\\pi_{Y \\mid X}(y \\mid x)$ is the likelihood function, $\\pi_X(x)$ is the prior distribution for $X$, and $\\pi_Y(y)$ is the marginal distribution for $Y$. \n",
    "\n",
    "The likelihood function can be found by considering the observation model for $Y$. Given a value of $X=x$, the distribution of $Y$ is normal with mean $h(x)=x^4+x^2$ and variance 1. Therefore, the likelihood function is:\n",
    "\n",
    "$$\n",
    "\\pi_{Y \\mid X}(y \\mid x) = \\frac{1}{\\sqrt{2\\pi}}e^{-\\frac{(y-h(x))^2}{2}}\n",
    "$$\n",
    "\n",
    "The prior distribution for $X$ is given as $N(0,2)$, so $\\pi_X(x) = \\frac{1}{\\sqrt{4\\pi}}e^{-\\frac{x^2}{4}}$.\n",
    "\n",
    "Substituting these expressions into Bayes' theorem and simplifying gives:\n",
    "\n",
    "$$\n",
    "\\pi_{X \\mid Y}(x \\mid Y=y) \\propto e^{-\\frac{(y-h(x))^2}{2}}e^{-\\frac{x^2}{4}}\n",
    "$$\n",
    "\n",
    "$$\n",
    "\\pi_{X \\mid Y}(x \\mid Y=4) \\propto e^{-\\frac{(4-(x^4+x^2))^2}{2}}e^{-\\frac{x^2}{4}}\n",
    "$$\n",
    "\n",
    "This is the conditional density of $X$ given that $Y=4$, up to a normalization constant."
   ]
  },
  {
   "cell_type": "markdown",
   "id": "24c0f5a6",
   "metadata": {},
   "source": [
    "## Solution 1.2"
   ]
  },
  {
   "cell_type": "markdown",
   "id": "63f1d7c7",
   "metadata": {},
   "source": [
    "To find the maximum a posteriori (MAP) estimate of $X$ given $Y=y$ using the gradient descent method, we need to minimize the negative log of the conditional density $\\pi_{X \\mid Y}(x \\mid Y=y)$. This is equivalent to maximizing the conditional density itself.\n",
    "\n",
    "Let $f(x) = -\\log(\\pi_{X \\mid Y}(x \\mid Y=y))$. Then, the gradient descent algorithm iteratively updates the estimate of $X$ using the formula:\n",
    "\n",
    "$$\n",
    "x_{n+1}=x_{n}-\\lambda_{n} \\nabla f\\left(x_{n}\\right)\n",
    "$$\n",
    "\n",
    "where $\\lambda_{n}>0$ is a small learning rate. The algorithm stops when the magnitude of the gradient $\\nabla f$ is small enough.\n",
    "\n",
    "In this case, we have:\n",
    "\n",
    "$$\n",
    "f(x) = -\\log(\\pi_{X \\mid Y}(x \\mid Y=4)) = -\\log(e^{-\\frac{(4-(x^4+x^2))^2}{2}}e^{-\\frac{x^2}{4}}) = \\frac{(4-(x^4+x^2))^2}{2} + \\frac{x^2}{4}\n",
    "$$\n",
    "\n",
    "Taking the derivative with respect to $x$, we get:\n",
    "\n",
    "$$\n",
    "\\nabla f(x) = \\frac{d}{dx}f(x) = -2(4-(x^4+x^2))(4x^3+2x) + \\frac{x}{2}\n",
    "$$\n",
    "\n",
    "Substituting this expression for $\\nabla f(x)$ into the update formula for gradient descent, we can iteratively update our estimate of $X$ until convergence.\n",
    "\n"
   ]
  },
  {
   "cell_type": "code",
   "execution_count": 1,
   "id": "9e7e9fcd",
   "metadata": {
    "scrolled": true
   },
   "outputs": [
    {
     "name": "stdout",
     "output_type": "stream",
     "text": [
      "0\n"
     ]
    }
   ],
   "source": [
    "import numpy as np\n",
    "\n",
    "def f(x):\n",
    "    return (4 - (x**4 + x**2))**2 / 2 + x**2 / 4\n",
    "\n",
    "def grad_f(x):\n",
    "    return -2 * (4 - (x**4 + x**2)) * (4 * x**3 + 2 * x) + x / 2\n",
    "\n",
    "def gradient_descent(f, grad_f, x0, learning_rate=0.001, max_iter=10000, tol=1e-6):\n",
    "    x = x0\n",
    "    for i in range(max_iter):\n",
    "        grad = grad_f(x)\n",
    "        if np.linalg.norm(grad) < tol:\n",
    "            break\n",
    "        x -= learning_rate * grad\n",
    "    return x\n",
    "\n",
    "x0 = 0 # initial guess\n",
    "m = gradient_descent(f, grad_f, x0)\n",
    "print(m)\n"
   ]
  },
  {
   "cell_type": "markdown",
   "id": "b095842e",
   "metadata": {},
   "source": [
    "## Solution 1.3"
   ]
  },
  {
   "cell_type": "markdown",
   "id": "9fb34700",
   "metadata": {},
   "source": [
    "\n",
    "In this case, we have:\n",
    "\n",
    "$$\n",
    "V(x) = -\\log(\\pi_{X \\mid Y}(x \\mid Y=4)) = -\\log(e^{-\\frac{(4-(x^4+x^2))^2}{2}}e^{-\\frac{x^2}{4}}) = \\frac{(4-(x^4+x^2))^2}{2} + \\frac{x^2}{4}\n",
    "$$\n",
    "\n",
    "Taking the second derivative with respect to $x$, we get:\n",
    "\n",
    "$$\n",
    "V''(x) = \\frac{d^2}{dx^2}V(x) = 12x^4 + 48x^2 - 38\n",
    "$$\n",
    "\n",
    "Substituting the value of $m$ that we found in the previous step (which was 0), we get:\n",
    "\n",
    "$$\n",
    "V''(m) = V''(0) = -38\n",
    "$$\n",
    "\n",
    "Therefore, the Laplace approximation to the posterior density of $X$ given $Y=4$ is:\n",
    "\n",
    "$$\n",
    "\\tilde{\\pi}(x) = N\\left(m, V''(m)^{-1}\\right) = N\\left(0, \\frac{1}{38}\\right)\n",
    "$$\n",
    "\n",
    "This means that the Laplace approximation to the posterior density of $X$ given $Y=4$ is a normal distribution with mean 0 and variance $\\frac{1}{38}$."
   ]
  },
  {
   "cell_type": "markdown",
   "id": "d33d9e52",
   "metadata": {},
   "source": [
    "## Solution 1.4"
   ]
  },
  {
   "cell_type": "code",
   "execution_count": 7,
   "id": "327ce656",
   "metadata": {},
   "outputs": [
    {
     "data": {
      "image/png": "[encoded data removed]",
      "text/plain": [
       "<Figure size 432x288 with 1 Axes>"
      ]
     },
     "metadata": {
      "needs_background": "light"
     },
     "output_type": "display_data"
    }
   ],
   "source": [
    "import numpy as np\n",
    "import matplotlib.pyplot as plt\n",
    "\n",
    "def f(x):\n",
    "    return (4 - (x**4 + x**2))**2 / 2 + x**2 / 4\n",
    "\n",
    "def grad_f(x):\n",
    "    return -2 * (4 - (x**4 + x**2)) * (4 * x**3 + 2 * x) + x / 2\n",
    "\n",
    "def gradient_descent(f, grad_f, x0, learning_rate=0.001, max_iter=10000, tol=1e-6):\n",
    "    x = x0\n",
    "    for i in range(max_iter):\n",
    "        grad = grad_f(x)\n",
    "        if np.linalg.norm(grad) < tol:\n",
    "            break\n",
    "        x -= learning_rate * grad\n",
    "    return x\n",
    "\n",
    "def grad_V(x):\n",
    "    return -2 * (4 - (x**4 + x**2)) * (4 * x**3 + 2 * x) + x / 2\n",
    "\n",
    "def langevin(grad_V, x0, dt, T):\n",
    "    N = int(T / dt)\n",
    "    X = np.zeros(N+1)\n",
    "    X[0] = x0\n",
    "    for i in range(N):\n",
    "        X[i+1] = X[i] - grad_V(X[i]) * dt + np.sqrt(2*dt) * np.random.randn()\n",
    "    return X\n",
    "\n",
    "x0 = gradient_descent(f, grad_f, 0) # initial value\n",
    "dt = 0.001 # time step\n",
    "T = 100 # terminal time\n",
    "X = langevin(grad_V, x0, dt, T)\n",
    "\n",
    "# plot histogram of samples\n",
    "plt.hist(X, bins=50, density=True)\n",
    "\n",
    "# plot Laplace approximation\n",
    "x = np.linspace(-1.5, 1.5, 100)\n",
    "mu = 0 # mean of Laplace approximation\n",
    "sigma = np.sqrt(1/38) # standard deviation of Laplace approximation\n",
    "y = 1 / (sigma * np.sqrt(2 * np.pi)) * np.exp(-(x - mu)**2 / (2 * sigma**2))\n",
    "plt.plot(x, y)\n",
    "\n",
    "plt.show()\n"
   ]
  },
  {
   "cell_type": "markdown",
   "id": "0a552e50",
   "metadata": {},
   "source": [
    "## Solution 1.5"
   ]
  },
  {
   "cell_type": "markdown",
   "id": "a2d91d50",
   "metadata": {},
   "source": [
    "The two methods you mentioned are the Laplace approximation and the Langevin method. Both methods can be used to approximate the posterior density of $X$ given $Y=y$, but they have different strengths and weaknesses.\n",
    "\n",
    "The Laplace approximation is a fast and simple method for approximating a probability density function using a normal distribution. It only requires computing the maximum a posteriori (MAP) estimate of $X$ given $Y=y$ and the second derivative of the negative log of the target density at this point. However, the accuracy of the Laplace approximation depends on how well the target density can be approximated by a normal distribution. If the target density is highly non-normal or has multiple modes, the Laplace approximation may not be very accurate.\n",
    "\n",
    "The Langevin method is a Markov Chain Monte Carlo (MCMC) algorithm that can be used to sample from a target distribution. It generates a sequence of samples from the target distribution by simulating a Markov chain that has the target distribution as its invariant distribution. The Langevin method can be more accurate than the Laplace approximation because it can handle target densities that are highly non-normal or have multiple modes. However, it requires more computational effort because it involves simulating a Markov chain for a sufficiently long time until convergence to the invariant distribution. The accuracy of the Langevin method also depends on the choice of parameters such as the time step and initial value.\n",
    "\n",
    "In summary, the Laplace approximation is a fast and simple method for approximating a probability density function using a normal distribution, but its accuracy may be limited if the target density is highly non-normal or has multiple modes. The Langevin method is a more accurate but computationally more expensive method that can handle more complex target densities."
   ]
  },
  {
   "cell_type": "markdown",
   "id": "2dce01e8",
   "metadata": {},
   "source": [
    "## Problem 3.1"
   ]
  },
  {
   "cell_type": "markdown",
   "id": "7d90b650",
   "metadata": {},
   "source": [
    "The joint distribution of $X$ and $Y$ as follows:\n",
    "\n",
    "$$\n",
    "\\begin{pmatrix}X\\\\Y\\end{pmatrix} = \\begin{pmatrix}X_1\\\\X_2\\\\X_1+X_2+W\\end{pmatrix} \\sim N\\left(\\begin{pmatrix}0\\\\0\\\\0\\end{pmatrix}, \\begin{pmatrix}1&0&1\\\\0&1&1\\\\1&1&2+\\sigma^2\\end{pmatrix}\\right)\n",
    "$$\n",
    "\n",
    "Using the formula for the conditional distribution of a multivariate normal distribution, we have:\n",
    "\n",
    "$$\n",
    "X|Y=y \\sim N\\left(\\mu_{X|Y=y}, \\Sigma_{X|Y=y}\\right)\n",
    "$$\n",
    "\n",
    "where\n",
    "\n",
    "$$\n",
    "\\mu_{X|Y=y} = \\mu_X + \\Sigma_{XY}\\Sigma_{Y}^{-1}(y-\\mu_Y)\n",
    "$$\n",
    "\n",
    "and\n",
    "\n",
    "$$\n",
    "\\Sigma_{X|Y=y} = \\Sigma_X - \\Sigma_{XY}\\Sigma_Y^{-1}\\Sigma_{YX}\n",
    "$$\n",
    "\n",
    "Substituting the values for the mean vector and covariance matrix of the joint distribution of X and Y, we get:\n",
    "\n",
    "$$\n",
    "\\mu_{X|Y=y} = \\begin{pmatrix}0\\\\0\\end{pmatrix} + \\begin{pmatrix}1&0\\\\1&1\\end{pmatrix}\\begin{pmatrix}2+\\sigma^2\\end{pmatrix}^{-1}(y-0) = \\frac{y}{2+\\sigma^2}\\begin{pmatrix}1\\\\1\\end{pmatrix}\n",
    "$$\n",
    "\n",
    "and\n",
    "\n",
    "$$\n",
    "\\Sigma_{X|Y=y} = \\begin{pmatrix}1&0\\\\0&1\\end{pmatrix} - \\begin{pmatrix}1&0\\\\1&1\\end{pmatrix}\\begin{pmatrix}2+\\sigma^2\\end{pmatrix}^{-1}\\begin{pmatrix}1&1\\\\0&1\\end{pmatrix} = \\frac{\\sigma^2}{2+\\sigma^2}\\begin{pmatrix}1&-1\\\\-1&1\\end{pmatrix}\n",
    "$$\n",
    "\n",
    "Therefore, the conditional distribution of $X$ given $Y = y$ is a bivariate normal distribution with mean vector $(y/(2+σ²)$, $y/(2+σ²))$ and covariance matrix $(σ²/(2+σ²))((1,-1),(-1, 1))$.\n"
   ]
  },
  {
   "cell_type": "markdown",
   "id": "92795401",
   "metadata": {},
   "source": [
    "## Problem 3.2"
   ]
  },
  {
   "cell_type": "markdown",
   "id": "bbb8b069",
   "metadata": {},
   "source": [
    "As $σ → 0$, the variance of the noise $W$ goes to 0, which means that the noise has less and less effect on the value of $Y$. In this case, the mean vector of the conditional distribution of $X1$ and $X2$ given $Y = y$ approaches:\n",
    "\n",
    "$$\n",
    "E\\begin{pmatrix}X_1\\\\X_2\\end{pmatrix}\\Big|Y=y = \\begin{pmatrix}\\frac{y}{2}\\\\\\frac{y}{2}\\end{pmatrix}\n",
    "$$\n",
    "\n",
    "and the covariance matrix approaches:\n",
    "\n",
    "$$\n",
    "Cov\\begin{pmatrix}X_1\\\\X_2\\end{pmatrix}\\Big|Y=y = \\begin{pmatrix}0&0\\\\0&0\\end{pmatrix}\n",
    "$$\n",
    "\n",
    "This means that, given $Y = y$, $X1$ and $X2$ become perfectly negatively correlated and approach the value $y/2$ with probability 1.\n",
    "\n",
    "On the other hand, as $σ → \\infty$, the variance of the noise $W$ goes to infinity, which means that the noise has an increasingly larger effect on the value of $Y$. In this case, the mean vector of the conditional distribution of $X1$ and $X2$ given $Y = y$ approaches:\n",
    "\n",
    "$$\n",
    "E\\begin{pmatrix}X_1\\\\X_2\\end{pmatrix}\\Big|Y=y = \\begin{pmatrix}0\\\\0\\end{pmatrix}\n",
    "$$\n",
    "\n",
    "and the covariance matrix approaches:\n",
    "\n",
    "$$\n",
    "Cov\\begin{pmatrix}X_1\\\\X_2\\end{pmatrix}\\Big|Y=y = \\begin{pmatrix}\\frac{1}{2}&0\\\\0&\\frac{1}{2}\\end{pmatrix}\n",
    "$$\n",
    "\n",
    "This means that, given $Y = y$, $X1$ and $X2$ become independent and their conditional distribution approaches $N(0, 1/2)$."
   ]
  }
 ],
 "metadata": {
  "kernelspec": {
   "display_name": "Python 3 (ipykernel)",
   "language": "python",
   "name": "python3"
  },
  "language_info": {
   "codemirror_mode": {
    "name": "ipython",
    "version": 3
   },
   "file_extension": ".py",
   "mimetype": "text/x-python",
   "name": "python",
   "nbconvert_exporter": "python",
   "pygments_lexer": "ipython3",
   "version": "3.10.9"
  }
 },
 "nbformat": 4,
 "nbformat_minor": 5
}

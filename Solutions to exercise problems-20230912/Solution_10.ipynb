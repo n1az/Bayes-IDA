{
 "cells": [
  {
   "cell_type": "markdown",
   "id": "fe85bb26",
   "metadata": {},
   "source": [
    "#### Bayesian inference and Data assimilation SS2023\n",
    "\n",
    "# Exercise 10 sample sample solution\n",
    "\n",
    "#### Jin W. Kim (jin.won.kim@uni-potsdam.de)"
   ]
  },
  {
   "cell_type": "code",
   "execution_count": 1,
   "id": "b6b17b76",
   "metadata": {},
   "outputs": [],
   "source": [
    "%matplotlib inline\n",
    "import numpy as np\n",
    "import matplotlib.pyplot as plt"
   ]
  },
  {
   "cell_type": "markdown",
   "id": "c45f6ac6",
   "metadata": {},
   "source": [
    "## Problem 1\n",
    "\n",
    "#### 1.1\n",
    "Recall the Bayes rule:\n",
    "\n",
    "$$\n",
    "\\pi_{X|Y}(x|y) \\propto \\pi_{Y|X}(y|x)\\pi_X(x)\n",
    "$$\n",
    "\n",
    "The likelihood $\\pi_{Y|X}(y|x)$ is simply the probability density of the noise, shifted by $h(x)$. Therefore,\n",
    "\n",
    "$$\n",
    "\\pi_{Y|X}(y|x)\\propto \\exp\\big(-\\frac{1}{2}(y-h(x))^2\\big),\\quad \\pi_X(x) \\propto \\exp\\big(-\\frac{1}{2\\cdot2}x^2\\big)\n",
    "$$\n",
    "\n",
    "Therefore,\n",
    "\n",
    "$$\n",
    "\\pi_{X|Y}(x|y) = \\frac{1}{Z} \\exp\\big(-\\frac{1}{2}(y-x^4-x^2)^2-\\frac{1}{4}x^2\\big)\n",
    "$$"
   ]
  },
  {
   "cell_type": "markdown",
   "id": "885cb9fe",
   "metadata": {},
   "source": [
    "#### 1.2\n",
    "Let\n",
    "\n",
    "$$\n",
    "V(x;y) = \\frac{1}{2}(x^4+x^2-y)^2 + \\frac{1}{4}x^2\n",
    "$$\n",
    "\n",
    "Then the posterior density is $$\\pi_{X|Y}(x|y) = \\frac{1}{Z}\\exp\\big(-V(x;y)\\big)$$ and therefore maximizing the posterior for $y_{obs}=4$ is equivalent to minimize $V(x;4)$. The derivative is given by\n",
    "\n",
    "$$\n",
    "\\partial_x V(x;4) = (x^4+x^2-4)(4x^3+2x) + \\frac{1}{2}x\n",
    "$$"
   ]
  },
  {
   "cell_type": "code",
   "execution_count": 2,
   "id": "065ca8b5",
   "metadata": {},
   "outputs": [],
   "source": [
    "\"Implement the gradient descent algorithm\"\n",
    "def V4(x):\n",
    "    return 0.5*(x**4 + x**2 - 4)**2 + 0.25*x*x\n",
    "\n",
    "def DV4(x):\n",
    "    return (x**4 + x**2 - 4)*(4*x**3 + 2*x) + 0.5*x\n",
    "    \n",
    "def grad_descent(DV,x,lam,thr=0.0001,N_max=100000):\n",
    "    for i in range(N_max):\n",
    "        if np.abs(DV(x)) < thr:\n",
    "            print(\"Converged in {:} steps\".format(i))               #check if the threshold is accomplished\n",
    "            break\n",
    "        else:\n",
    "            x = x - lam*DV(x)\n",
    "    return x"
   ]
  },
  {
   "cell_type": "code",
   "execution_count": 3,
   "id": "11bb6f83",
   "metadata": {},
   "outputs": [
    {
     "name": "stdout",
     "output_type": "stream",
     "text": [
      "Converged in 230 steps\n",
      "Converged in 254 steps\n",
      "Converged in 370 steps\n",
      "Converged in 229 steps\n",
      "From x0 =-3.00, the algorithm converged at x=1.2437, the value is V_min=0.389\n",
      "From x0 =-1.00, the algorithm converged at x=-1.2437, the value is V_min=0.389\n",
      "From x0 =0.50, the algorithm converged at x=1.2437, the value is V_min=0.389\n",
      "From x0 =2.00, the algorithm converged at x=1.2437, the value is V_min=0.389\n"
     ]
    }
   ],
   "source": [
    "\"Run the simulation for few different initial condition\"\n",
    "lam = 0.0005\n",
    "\n",
    "x_init_1 = -3.\n",
    "x_final_1 = grad_descent(DV4,x_init_1,lam)\n",
    "x_init_2 = -1.\n",
    "x_final_2 = grad_descent(DV4,x_init_2,lam)\n",
    "x_init_3 = 0.5\n",
    "x_final_3 = grad_descent(DV4,x_init_3,lam)\n",
    "x_init_4 = 2.0\n",
    "x_final_4 = grad_descent(DV4,x_init_4,lam)\n",
    "\n",
    "print(\"From x0 ={:4.2f}, the algorithm converged at x={:6.4f}, the value is V_min={:5.3f}\".format(x_init_1,x_final_1,V4(x_final_1)))\n",
    "print(\"From x0 ={:4.2f}, the algorithm converged at x={:6.4f}, the value is V_min={:5.3f}\".format(x_init_2,x_final_2,V4(x_final_2)))\n",
    "print(\"From x0 ={:4.2f}, the algorithm converged at x={:6.4f}, the value is V_min={:5.3f}\".format(x_init_3,x_final_3,V4(x_final_3)))\n",
    "print(\"From x0 ={:4.2f}, the algorithm converged at x={:6.4f}, the value is V_min={:5.3f}\".format(x_init_4,x_final_4,V4(x_final_4)))\n"
   ]
  },
  {
   "cell_type": "markdown",
   "id": "2359faf5",
   "metadata": {},
   "source": [
    "We observe that there are 2 different local minima. Also note that with this choice of learning parameters, a negative initialization converged to a positive local minimum. "
   ]
  },
  {
   "cell_type": "markdown",
   "id": "2bd57a5b",
   "metadata": {},
   "source": [
    "#### 1.3\n",
    "The second order derivative of $V$ is given by\n",
    "\n",
    "$$\n",
    "\\partial_{xx} V(x;4) = (4x^3+2x)(4x^3+2x) + (x^4+x^2-4)(12x^2+2) + \\frac{1}{2}\n",
    "$$\n",
    "\n",
    "Note that this is an even function. We will pick the first result we found: $m = 1.2437$"
   ]
  },
  {
   "cell_type": "code",
   "execution_count": 4,
   "id": "8d480865",
   "metadata": {},
   "outputs": [
    {
     "name": "stdout",
     "output_type": "stream",
     "text": [
      "The Laplace approximation is N(1.2437,0.0097)\n"
     ]
    }
   ],
   "source": [
    "\"Compute the second order derivative\"\n",
    "m = x_final_1\n",
    "D2V = (4 * m**3 + 2*m) ** 2 + (m**4 + m**2 - 4)*(12*m**2+2) + 0.5\n",
    "\n",
    "print(\"The Laplace approximation is N({:6.4f},{:6.4f})\".format(m,1/D2V))"
   ]
  },
  {
   "cell_type": "markdown",
   "id": "1f7209fb",
   "metadata": {},
   "source": [
    "#### 1.4\n",
    "See the codes for Langevin method"
   ]
  },
  {
   "cell_type": "code",
   "execution_count": 5,
   "id": "6f8f831a",
   "metadata": {},
   "outputs": [],
   "source": [
    "\"Initialization\"\n",
    "N = 10000      #number of samples\n",
    "dt = 0.005\n",
    "x0 = 1.0\n",
    "T = 500\n",
    "\n",
    "N_t = int(T/dt)"
   ]
  },
  {
   "cell_type": "code",
   "execution_count": 6,
   "id": "2953d3ec",
   "metadata": {},
   "outputs": [],
   "source": [
    "\"Run the simulation\"\n",
    "X = x0*np.ones(N)\n",
    "for t in range(N_t):\n",
    "    X = X - DV4(X)*dt + np.sqrt(2*dt)*np.random.normal(size=N) "
   ]
  },
  {
   "cell_type": "code",
   "execution_count": 7,
   "id": "ee6d91a4",
   "metadata": {},
   "outputs": [],
   "source": [
    "\"The Laplace approximation\"\n",
    "x = np.arange(-1.5,1.8,0.02)\n",
    "lap_result = np.exp(-0.5*D2V*(x-m)*(x-m))"
   ]
  },
  {
   "cell_type": "code",
   "execution_count": 8,
   "id": "3864e540",
   "metadata": {},
   "outputs": [
    {
     "data": {
      "image/png": "[encoded data removed]",
      "text/plain": [
       "<Figure size 600x500 with 1 Axes>"
      ]
     },
     "metadata": {},
     "output_type": "display_data"
    }
   ],
   "source": [
    "plt.figure(figsize=(6,5))\n",
    "x_cnt,b,p = plt.hist(X,bins=100, label='Langevin')\n",
    "plt.plot(x,x_cnt.max()*lap_result, color='red', linewidth=2.0, label='Laplace')    #some re-scaling for the density\n",
    "plt.title(\"Simulation result\")\n",
    "plt.xlabel(\"x\")\n",
    "plt.legend()\n",
    "plt.grid()"
   ]
  },
  {
   "cell_type": "markdown",
   "id": "af2f2bb4",
   "metadata": {},
   "source": [
    "#### 1.5\n",
    "The Lapalce approximation succesfully approximate a single peak of the desired density. However in this problem, the posterior distribution is bimodal, and it cannot capture the bimodality as it approximates the desired density with a Gaussian distribution.\n",
    "\n",
    "Meanwhile, Langevin dynamics seems to converge to the true distribution, but it is very slow and expensive in terms of computational power.\n",
    "The number of evaluations of $\\nabla V$ is by far higher for the Langevin dynamics than the gradient descent method to find $m$."
   ]
  },
  {
   "cell_type": "markdown",
   "id": "1d76011e",
   "metadata": {},
   "source": [
    "## Problem 2"
   ]
  },
  {
   "cell_type": "markdown",
   "id": "e2f0fce9",
   "metadata": {},
   "source": [
    "#### 2.1.\n",
    "Observe that\n",
    "\n",
    "$$\n",
    "\\mathbb{E}\\big[(X-c)^2\\big] = \\mathbb{E}[X^2] - 2c\\mathbb{E}[X] + c^2 = \\big(c-\\mathbb{E}[X]\\big)^2 + \\mathbb{E}[X^2]-\\mathbb{E}[X]^2\n",
    "$$\n",
    "\n",
    "This is minimized at $c = \\mathbb{E}[X]$ and the minimum value is $\\mathbb{E}[X^2]-\\mathbb{E}[X]^2$."
   ]
  },
  {
   "cell_type": "markdown",
   "id": "16a0bed3",
   "metadata": {},
   "source": [
    "#### 2.2.\n",
    "Let $p(x)$ be the probability density function of $X$. We have\n",
    "\n",
    "$$\n",
    "\\mathbb{E}\\big[|X-c|\\big] = \\int_{-\\infty}^{\\infty} |x-c|p(x) \\,{\\rm d}x = \\int_{-\\infty}^c (c-x)p(x) \\,{\\rm d}x + \\int_c^\\infty (x-c)p(x) \\,{\\rm d}x\n",
    "$$\n",
    "\n",
    "Thus the first order optimality condition\n",
    "\n",
    "$$\n",
    "\\frac{\\partial}{\\partial c} \\Big[\\int_{-\\infty}^c (c-x)p(x) \\,{\\rm d}x + \\int_c^\\infty (x-c)p(x) \\,{\\rm d}x \\Big]\n",
    "=\\int_{-\\infty}^c p(x)\\,{\\rm d}x - \\int_c^\\infty p(x) \\,{\\rm d}x \n",
    "=0\n",
    "$$\n",
    "\n",
    "This is achieved by the median by definition."
   ]
  },
  {
   "cell_type": "markdown",
   "id": "a9644d39",
   "metadata": {},
   "source": [
    "## Problem 3\n",
    "\n",
    "#### 3.1.\n",
    "By Bayes rule,\n",
    "\n",
    "$$\n",
    "\\begin{aligned}\n",
    "\\pi_{X|Y}(x_1,x_2|y) &\\propto \\pi_{Y|X}(y|x_1,x_2)\\pi_{X}(x_1,x_2) \\\\\n",
    "&\\propto \\exp\\big(-\\frac{1}{2\\sigma}(y-x_1-x_2)^2\\big)\\exp\\big(-\\frac{1}{2}(x_1^2+x_2^2)\\big)\\\\\n",
    "&=\\exp\\Big(-\\frac{1}{2\\sigma}\\big((x_1+x_2)^2 -2y(x_1+x_2) +y^2 + \\sigma(x_1^2+x_2^2)\\big)\\Big)\n",
    "\\end{aligned}\n",
    "$$\n",
    "\n",
    "Since $x_1^2+x_2^2 = \\frac{1}{2}(x_1+x_2)^2 + \\frac{1}{2}(x_1-x_2)^2$,\n",
    "\n",
    "$$\n",
    "\\begin{aligned}\n",
    "\\pi_{X|Y}(x_1,x_2|y) &\\propto\\exp\\Big(-\\frac{1}{2\\sigma}\\big((1+\\frac{\\sigma}{2})(x_1+x_2)^2 -2y(x_1+x_2)+\\frac{\\sigma}{2}(x_1-x_2)^2\\big)\\Big)\\\\\n",
    "&\\propto \\exp\\Big(-\\frac{1}{2}\\cdot\\frac{2+\\sigma}{2\\sigma}\\big((x_1+x_2)^2 -2\\frac{2y}{2+\\sigma}(x_1+x_2)\\big)\\Big)\\exp\\Big(-\\frac{1}{2\\cdot 2}(x_1-x_2)^2\\big)\\Big)\n",
    "\\end{aligned}\n",
    "$$\n",
    "\n",
    "Therefore we conclude $X_1+X_2$ and $X_1-X_2$ are both Gaussian with\n",
    "\n",
    "$$\n",
    "\\mathbb{P}\\big[X_1+X_2 | Y=y\\big] = N\\Big(\\frac{2y}{2+\\sigma}, \\frac{2\\sigma}{2+\\sigma}\\Big)\\\\\n",
    "\\mathbb{P}\\big[X_1-X_2 | Y=y\\big] = N(0, 2)\n",
    "$$\n",
    "\n",
    "Therefore we use $X_1 = \\frac{1}{2}(X_1+X_2) + \\frac{1}{2}(X_1-X_2)$, $X_2 = \\frac{1}{2}(X_1+X_2) - \\frac{1}{2}(X_1-X_2)$, Therefore,\n",
    "\n",
    "$$\n",
    "\\mathbb{E}\\big[X_1| Y=y\\big] = \\mathbb{E}\\big[X_2| Y=y\\big] = \\frac{y}{2+\\sigma}\\\\\n",
    "\\text{Var}\\big[X_1|Y=y\\big] = \\text{Var}\\big[X_2|Y=y\\big] = \\frac{1+\\sigma}{2+\\sigma}\n",
    "$$\n",
    "\n",
    "#### 3.2\n",
    "Regardless of $y$ and $\\sigma$, $X_1-X_2$ is unchanged.\n",
    "* As $\\sigma\\to\\infty$, it is intuitively true that conditioning on $Y$ does not matters, and indeed the distributions of $X_1$ and $X_2$ converge to $N(0,1)$.\n",
    "* As $\\sigma\\to 0$, $X_1$ and $X_2$ conditioned on $Y=y$ converges to mean $y/2$ and variance $1/2$. However the variance is due to $X_1-X_2$ direction, and $X_1+X_2$ becomes deterministic constant $y$."
   ]
  },
  {
   "cell_type": "code",
   "execution_count": null,
   "id": "e91cae47",
   "metadata": {},
   "outputs": [],
   "source": []
  }
 ],
 "metadata": {
  "kernelspec": {
   "display_name": "Python 3 (ipykernel)",
   "language": "python",
   "name": "python3"
  },
  "language_info": {
   "codemirror_mode": {
    "name": "ipython",
    "version": 3
   },
   "file_extension": ".py",
   "mimetype": "text/x-python",
   "name": "python",
   "nbconvert_exporter": "python",
   "pygments_lexer": "ipython3",
   "version": "3.10.9"
  }
 },
 "nbformat": 4,
 "nbformat_minor": 5
}
